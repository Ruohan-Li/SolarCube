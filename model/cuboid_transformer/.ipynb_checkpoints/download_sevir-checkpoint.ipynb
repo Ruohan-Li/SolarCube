{
 "cells": [
  {
   "cell_type": "code",
   "execution_count": null,
   "id": "5d7902a5",
   "metadata": {},
   "outputs": [],
   "source": [
    "import argparse\n",
    "from earthformer.datasets.sevir.sevir_torch_wrap import download_SEVIR\n",
    "\n",
    "\n",
    "def get_parser():\n",
    "    parser = argparse.ArgumentParser()\n",
    "    parser.add_argument(\"--dataset\", default=\"sevir\", type=str)\n",
    "    parser.add_argument(\"--save\", default=None, type=str)\n",
    "    return parser\n",
    "\n",
    "\n",
    "def main():\n",
    "    parser = get_parser()\n",
    "    args = parser.parse_args()\n",
    "    if args.dataset == \"sevir\":\n",
    "        download_SEVIR(save_dir=args.save)\n",
    "    else:\n",
    "        raise ValueError(f\"Wrong dataset name {args.dataset}! Must be one of ('sevir', 'sevir_lr').\")\n",
    "\n",
    "\n",
    "if __name__ == \"__main__\":\n",
    "    main()"
   ]
  }
 ],
 "metadata": {
  "kernelspec": {
   "display_name": "Python 3 (ipykernel)",
   "language": "python",
   "name": "python3"
  },
  "language_info": {
   "codemirror_mode": {
    "name": "ipython",
    "version": 3
   },
   "file_extension": ".py",
   "mimetype": "text/x-python",
   "name": "python",
   "nbconvert_exporter": "python",
   "pygments_lexer": "ipython3",
   "version": "3.7.8"
  }
 },
 "nbformat": 4,
 "nbformat_minor": 5
}
